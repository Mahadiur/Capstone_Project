{
 "cells": [
  {
   "cell_type": "markdown",
   "id": "053be7c3",
   "metadata": {},
   "source": [
    "### Capstone Project"
   ]
  },
  {
   "cell_type": "code",
   "execution_count": 4,
   "id": "f915dceb",
   "metadata": {},
   "outputs": [],
   "source": [
    "import os \n",
    "import pandas as pd\n",
    "import plotly.express as plt\n",
    "from datetime import timedelta\n",
    "from datetime import datetime"
   ]
  },
  {
   "cell_type": "markdown",
   "id": "9a5167d9",
   "metadata": {},
   "source": [
    "### Step-1: Load Data by Path"
   ]
  },
  {
   "cell_type": "code",
   "execution_count": 5,
   "id": "a2f6be14",
   "metadata": {},
   "outputs": [],
   "source": [
    "Root_path = 'C:\\\\Users\\\\mdmes\\\\OneDrive\\\\Desktop\\\\Pandas Data'\n",
    "\n",
    "product_path = os.path.join(Root_path,'products.csv')\n",
    "purchases_path =os.path.join(Root_path, 'purchases.csv')\n",
    "sales_path = os.path.join(Root_path, 'sales.csv')\n"
   ]
  },
  {
   "cell_type": "code",
   "execution_count": 6,
   "id": "f1742236",
   "metadata": {},
   "outputs": [
    {
     "data": {
      "text/html": [
       "<div>\n",
       "<style scoped>\n",
       "    .dataframe tbody tr th:only-of-type {\n",
       "        vertical-align: middle;\n",
       "    }\n",
       "\n",
       "    .dataframe tbody tr th {\n",
       "        vertical-align: top;\n",
       "    }\n",
       "\n",
       "    .dataframe thead th {\n",
       "        text-align: right;\n",
       "    }\n",
       "</style>\n",
       "<table border=\"1\" class=\"dataframe\">\n",
       "  <thead>\n",
       "    <tr style=\"text-align: right;\">\n",
       "      <th></th>\n",
       "      <th>product_id</th>\n",
       "      <th>product_name</th>\n",
       "      <th>category</th>\n",
       "      <th>cost_price</th>\n",
       "      <th>selling_price</th>\n",
       "      <th>reorder_level</th>\n",
       "    </tr>\n",
       "  </thead>\n",
       "  <tbody>\n",
       "    <tr>\n",
       "      <th>0</th>\n",
       "      <td>1001</td>\n",
       "      <td>Organic Rice</td>\n",
       "      <td>Groceries</td>\n",
       "      <td>1551.26</td>\n",
       "      <td>2296.31</td>\n",
       "      <td>43</td>\n",
       "    </tr>\n",
       "    <tr>\n",
       "      <th>1</th>\n",
       "      <td>1002</td>\n",
       "      <td>Olive Oil</td>\n",
       "      <td>Groceries</td>\n",
       "      <td>2516.38</td>\n",
       "      <td>3370.60</td>\n",
       "      <td>39</td>\n",
       "    </tr>\n",
       "    <tr>\n",
       "      <th>2</th>\n",
       "      <td>1003</td>\n",
       "      <td>Canned Beans</td>\n",
       "      <td>Groceries</td>\n",
       "      <td>961.25</td>\n",
       "      <td>1117.36</td>\n",
       "      <td>30</td>\n",
       "    </tr>\n",
       "    <tr>\n",
       "      <th>3</th>\n",
       "      <td>1004</td>\n",
       "      <td>Pasta</td>\n",
       "      <td>Groceries</td>\n",
       "      <td>696.83</td>\n",
       "      <td>1007.94</td>\n",
       "      <td>36</td>\n",
       "    </tr>\n",
       "    <tr>\n",
       "      <th>4</th>\n",
       "      <td>1005</td>\n",
       "      <td>Coffee Beans</td>\n",
       "      <td>Groceries</td>\n",
       "      <td>2163.01</td>\n",
       "      <td>2991.94</td>\n",
       "      <td>27</td>\n",
       "    </tr>\n",
       "  </tbody>\n",
       "</table>\n",
       "</div>"
      ],
      "text/plain": [
       "   product_id  product_name   category  cost_price  selling_price  \\\n",
       "0        1001  Organic Rice  Groceries     1551.26        2296.31   \n",
       "1        1002     Olive Oil  Groceries     2516.38        3370.60   \n",
       "2        1003  Canned Beans  Groceries      961.25        1117.36   \n",
       "3        1004         Pasta  Groceries      696.83        1007.94   \n",
       "4        1005  Coffee Beans  Groceries     2163.01        2991.94   \n",
       "\n",
       "   reorder_level  \n",
       "0             43  \n",
       "1             39  \n",
       "2             30  \n",
       "3             36  \n",
       "4             27  "
      ]
     },
     "execution_count": 6,
     "metadata": {},
     "output_type": "execute_result"
    }
   ],
   "source": [
    "product_data = pd.read_csv(\n",
    "    product_path\n",
    ")\n",
    "product_data.head()"
   ]
  },
  {
   "cell_type": "code",
   "execution_count": 8,
   "id": "3437da11",
   "metadata": {},
   "outputs": [
    {
     "data": {
      "text/html": [
       "<div>\n",
       "<style scoped>\n",
       "    .dataframe tbody tr th:only-of-type {\n",
       "        vertical-align: middle;\n",
       "    }\n",
       "\n",
       "    .dataframe tbody tr th {\n",
       "        vertical-align: top;\n",
       "    }\n",
       "\n",
       "    .dataframe thead th {\n",
       "        text-align: right;\n",
       "    }\n",
       "</style>\n",
       "<table border=\"1\" class=\"dataframe\">\n",
       "  <thead>\n",
       "    <tr style=\"text-align: right;\">\n",
       "      <th></th>\n",
       "      <th>product_id</th>\n",
       "      <th>quantity_purchased</th>\n",
       "      <th>purchase_date</th>\n",
       "    </tr>\n",
       "  </thead>\n",
       "  <tbody>\n",
       "    <tr>\n",
       "      <th>0</th>\n",
       "      <td>1095</td>\n",
       "      <td>94</td>\n",
       "      <td>2024-08-19</td>\n",
       "    </tr>\n",
       "    <tr>\n",
       "      <th>1</th>\n",
       "      <td>1054</td>\n",
       "      <td>23</td>\n",
       "      <td>2024-08-16</td>\n",
       "    </tr>\n",
       "    <tr>\n",
       "      <th>2</th>\n",
       "      <td>1058</td>\n",
       "      <td>64</td>\n",
       "      <td>2024-12-18</td>\n",
       "    </tr>\n",
       "    <tr>\n",
       "      <th>3</th>\n",
       "      <td>1067</td>\n",
       "      <td>57</td>\n",
       "      <td>2024-06-12</td>\n",
       "    </tr>\n",
       "    <tr>\n",
       "      <th>4</th>\n",
       "      <td>1046</td>\n",
       "      <td>91</td>\n",
       "      <td>2024-03-13</td>\n",
       "    </tr>\n",
       "  </tbody>\n",
       "</table>\n",
       "</div>"
      ],
      "text/plain": [
       "   product_id  quantity_purchased purchase_date\n",
       "0        1095                  94    2024-08-19\n",
       "1        1054                  23    2024-08-16\n",
       "2        1058                  64    2024-12-18\n",
       "3        1067                  57    2024-06-12\n",
       "4        1046                  91    2024-03-13"
      ]
     },
     "execution_count": 8,
     "metadata": {},
     "output_type": "execute_result"
    }
   ],
   "source": [
    "purchases_data = pd.read_csv(\n",
    "    purchases_path\n",
    ")\n",
    "\n",
    "purchases_data.head()"
   ]
  },
  {
   "cell_type": "code",
   "execution_count": 9,
   "id": "7ac5b9fd",
   "metadata": {},
   "outputs": [
    {
     "data": {
      "text/html": [
       "<div>\n",
       "<style scoped>\n",
       "    .dataframe tbody tr th:only-of-type {\n",
       "        vertical-align: middle;\n",
       "    }\n",
       "\n",
       "    .dataframe tbody tr th {\n",
       "        vertical-align: top;\n",
       "    }\n",
       "\n",
       "    .dataframe thead th {\n",
       "        text-align: right;\n",
       "    }\n",
       "</style>\n",
       "<table border=\"1\" class=\"dataframe\">\n",
       "  <thead>\n",
       "    <tr style=\"text-align: right;\">\n",
       "      <th></th>\n",
       "      <th>product_id</th>\n",
       "      <th>quantity_sold</th>\n",
       "      <th>sale_date</th>\n",
       "      <th>location</th>\n",
       "      <th>discount</th>\n",
       "    </tr>\n",
       "  </thead>\n",
       "  <tbody>\n",
       "    <tr>\n",
       "      <th>0</th>\n",
       "      <td>1013</td>\n",
       "      <td>4</td>\n",
       "      <td>2024-09-02</td>\n",
       "      <td>Rajshahi</td>\n",
       "      <td>52.178882</td>\n",
       "    </tr>\n",
       "    <tr>\n",
       "      <th>1</th>\n",
       "      <td>1064</td>\n",
       "      <td>9</td>\n",
       "      <td>2024-02-25</td>\n",
       "      <td>Sylhet</td>\n",
       "      <td>52.059982</td>\n",
       "    </tr>\n",
       "    <tr>\n",
       "      <th>2</th>\n",
       "      <td>1011</td>\n",
       "      <td>2</td>\n",
       "      <td>2024-02-07</td>\n",
       "      <td>Dhaka</td>\n",
       "      <td>7.370982</td>\n",
       "    </tr>\n",
       "    <tr>\n",
       "      <th>3</th>\n",
       "      <td>1019</td>\n",
       "      <td>2</td>\n",
       "      <td>2024-09-01</td>\n",
       "      <td>Sylhet</td>\n",
       "      <td>51.219448</td>\n",
       "    </tr>\n",
       "    <tr>\n",
       "      <th>4</th>\n",
       "      <td>1011</td>\n",
       "      <td>9</td>\n",
       "      <td>2024-01-21</td>\n",
       "      <td>Chittagong</td>\n",
       "      <td>82.274403</td>\n",
       "    </tr>\n",
       "  </tbody>\n",
       "</table>\n",
       "</div>"
      ],
      "text/plain": [
       "   product_id  quantity_sold   sale_date    location   discount\n",
       "0        1013              4  2024-09-02    Rajshahi  52.178882\n",
       "1        1064              9  2024-02-25      Sylhet  52.059982\n",
       "2        1011              2  2024-02-07       Dhaka   7.370982\n",
       "3        1019              2  2024-09-01      Sylhet  51.219448\n",
       "4        1011              9  2024-01-21  Chittagong  82.274403"
      ]
     },
     "execution_count": 9,
     "metadata": {},
     "output_type": "execute_result"
    }
   ],
   "source": [
    "sales_data = pd.read_csv(\n",
    "    sales_path\n",
    ")\n",
    "\n",
    "sales_data.head()"
   ]
  },
  {
   "cell_type": "markdown",
   "id": "27c50bc1",
   "metadata": {},
   "source": [
    "### Step-2:Convert string to datetime "
   ]
  },
  {
   "cell_type": "code",
   "execution_count": null,
   "id": "0d52cfb1",
   "metadata": {},
   "outputs": [],
   "source": [
    "sales_data['sale_date'] = pd.to_datetime(sales_data['sale_date']).dt.date"
   ]
  }
 ],
 "metadata": {
  "kernelspec": {
   "display_name": "Python 3",
   "language": "python",
   "name": "python3"
  },
  "language_info": {
   "codemirror_mode": {
    "name": "ipython",
    "version": 3
   },
   "file_extension": ".py",
   "mimetype": "text/x-python",
   "name": "python",
   "nbconvert_exporter": "python",
   "pygments_lexer": "ipython3",
   "version": "3.12.3"
  }
 },
 "nbformat": 4,
 "nbformat_minor": 5
}
