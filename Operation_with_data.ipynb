{
 "cells": [
  {
   "cell_type": "markdown",
   "id": "053be7c3",
   "metadata": {},
   "source": [
    "### Capstone Project"
   ]
  },
  {
   "cell_type": "code",
   "execution_count": 1,
   "id": "f915dceb",
   "metadata": {},
   "outputs": [],
   "source": [
    "import os \n",
    "import pandas as pd\n",
    "import plotly.express as plt\n",
    "from datetime import timedelta\n",
    "from datetime import datetime"
   ]
  },
  {
   "cell_type": "markdown",
   "id": "9a5167d9",
   "metadata": {},
   "source": [
    "### Step-1: Load Data by Path"
   ]
  },
  {
   "cell_type": "code",
   "execution_count": 2,
   "id": "a2f6be14",
   "metadata": {},
   "outputs": [],
   "source": [
    "Root_path = 'C:\\\\Users\\\\mdmes\\\\OneDrive\\\\Desktop\\\\Pandas Data'\n",
    "\n",
    "product_path = os.path.join(Root_path,'products.csv')\n",
    "purchases_path =os.path.join(Root_path, 'purchases.csv')\n",
    "sales_path = os.path.join(Root_path, 'sales.csv')\n"
   ]
  },
  {
   "cell_type": "code",
   "execution_count": 3,
   "id": "f1742236",
   "metadata": {},
   "outputs": [
    {
     "data": {
      "text/html": [
       "<div>\n",
       "<style scoped>\n",
       "    .dataframe tbody tr th:only-of-type {\n",
       "        vertical-align: middle;\n",
       "    }\n",
       "\n",
       "    .dataframe tbody tr th {\n",
       "        vertical-align: top;\n",
       "    }\n",
       "\n",
       "    .dataframe thead th {\n",
       "        text-align: right;\n",
       "    }\n",
       "</style>\n",
       "<table border=\"1\" class=\"dataframe\">\n",
       "  <thead>\n",
       "    <tr style=\"text-align: right;\">\n",
       "      <th></th>\n",
       "      <th>product_id</th>\n",
       "      <th>product_name</th>\n",
       "      <th>category</th>\n",
       "      <th>cost_price</th>\n",
       "      <th>selling_price</th>\n",
       "      <th>reorder_level</th>\n",
       "    </tr>\n",
       "  </thead>\n",
       "  <tbody>\n",
       "    <tr>\n",
       "      <th>0</th>\n",
       "      <td>1001</td>\n",
       "      <td>Organic Rice</td>\n",
       "      <td>Groceries</td>\n",
       "      <td>1551.26</td>\n",
       "      <td>2296.31</td>\n",
       "      <td>43</td>\n",
       "    </tr>\n",
       "    <tr>\n",
       "      <th>1</th>\n",
       "      <td>1002</td>\n",
       "      <td>Olive Oil</td>\n",
       "      <td>Groceries</td>\n",
       "      <td>2516.38</td>\n",
       "      <td>3370.60</td>\n",
       "      <td>39</td>\n",
       "    </tr>\n",
       "    <tr>\n",
       "      <th>2</th>\n",
       "      <td>1003</td>\n",
       "      <td>Canned Beans</td>\n",
       "      <td>Groceries</td>\n",
       "      <td>961.25</td>\n",
       "      <td>1117.36</td>\n",
       "      <td>30</td>\n",
       "    </tr>\n",
       "    <tr>\n",
       "      <th>3</th>\n",
       "      <td>1004</td>\n",
       "      <td>Pasta</td>\n",
       "      <td>Groceries</td>\n",
       "      <td>696.83</td>\n",
       "      <td>1007.94</td>\n",
       "      <td>36</td>\n",
       "    </tr>\n",
       "    <tr>\n",
       "      <th>4</th>\n",
       "      <td>1005</td>\n",
       "      <td>Coffee Beans</td>\n",
       "      <td>Groceries</td>\n",
       "      <td>2163.01</td>\n",
       "      <td>2991.94</td>\n",
       "      <td>27</td>\n",
       "    </tr>\n",
       "  </tbody>\n",
       "</table>\n",
       "</div>"
      ],
      "text/plain": [
       "   product_id  product_name   category  cost_price  selling_price  \\\n",
       "0        1001  Organic Rice  Groceries     1551.26        2296.31   \n",
       "1        1002     Olive Oil  Groceries     2516.38        3370.60   \n",
       "2        1003  Canned Beans  Groceries      961.25        1117.36   \n",
       "3        1004         Pasta  Groceries      696.83        1007.94   \n",
       "4        1005  Coffee Beans  Groceries     2163.01        2991.94   \n",
       "\n",
       "   reorder_level  \n",
       "0             43  \n",
       "1             39  \n",
       "2             30  \n",
       "3             36  \n",
       "4             27  "
      ]
     },
     "execution_count": 3,
     "metadata": {},
     "output_type": "execute_result"
    }
   ],
   "source": [
    "product_data = pd.read_csv(\n",
    "    product_path\n",
    ")\n",
    "product_data.head()"
   ]
  },
  {
   "cell_type": "code",
   "execution_count": 4,
   "id": "3437da11",
   "metadata": {},
   "outputs": [
    {
     "data": {
      "text/html": [
       "<div>\n",
       "<style scoped>\n",
       "    .dataframe tbody tr th:only-of-type {\n",
       "        vertical-align: middle;\n",
       "    }\n",
       "\n",
       "    .dataframe tbody tr th {\n",
       "        vertical-align: top;\n",
       "    }\n",
       "\n",
       "    .dataframe thead th {\n",
       "        text-align: right;\n",
       "    }\n",
       "</style>\n",
       "<table border=\"1\" class=\"dataframe\">\n",
       "  <thead>\n",
       "    <tr style=\"text-align: right;\">\n",
       "      <th></th>\n",
       "      <th>product_id</th>\n",
       "      <th>quantity_purchased</th>\n",
       "      <th>purchase_date</th>\n",
       "    </tr>\n",
       "  </thead>\n",
       "  <tbody>\n",
       "    <tr>\n",
       "      <th>0</th>\n",
       "      <td>1095</td>\n",
       "      <td>94</td>\n",
       "      <td>2024-08-19</td>\n",
       "    </tr>\n",
       "    <tr>\n",
       "      <th>1</th>\n",
       "      <td>1054</td>\n",
       "      <td>23</td>\n",
       "      <td>2024-08-16</td>\n",
       "    </tr>\n",
       "    <tr>\n",
       "      <th>2</th>\n",
       "      <td>1058</td>\n",
       "      <td>64</td>\n",
       "      <td>2024-12-18</td>\n",
       "    </tr>\n",
       "    <tr>\n",
       "      <th>3</th>\n",
       "      <td>1067</td>\n",
       "      <td>57</td>\n",
       "      <td>2024-06-12</td>\n",
       "    </tr>\n",
       "    <tr>\n",
       "      <th>4</th>\n",
       "      <td>1046</td>\n",
       "      <td>91</td>\n",
       "      <td>2024-03-13</td>\n",
       "    </tr>\n",
       "  </tbody>\n",
       "</table>\n",
       "</div>"
      ],
      "text/plain": [
       "   product_id  quantity_purchased purchase_date\n",
       "0        1095                  94    2024-08-19\n",
       "1        1054                  23    2024-08-16\n",
       "2        1058                  64    2024-12-18\n",
       "3        1067                  57    2024-06-12\n",
       "4        1046                  91    2024-03-13"
      ]
     },
     "execution_count": 4,
     "metadata": {},
     "output_type": "execute_result"
    }
   ],
   "source": [
    "purchases_data = pd.read_csv(\n",
    "    purchases_path\n",
    ")\n",
    "\n",
    "purchases_data.head()"
   ]
  },
  {
   "cell_type": "code",
   "execution_count": 5,
   "id": "7ac5b9fd",
   "metadata": {},
   "outputs": [
    {
     "data": {
      "text/html": [
       "<div>\n",
       "<style scoped>\n",
       "    .dataframe tbody tr th:only-of-type {\n",
       "        vertical-align: middle;\n",
       "    }\n",
       "\n",
       "    .dataframe tbody tr th {\n",
       "        vertical-align: top;\n",
       "    }\n",
       "\n",
       "    .dataframe thead th {\n",
       "        text-align: right;\n",
       "    }\n",
       "</style>\n",
       "<table border=\"1\" class=\"dataframe\">\n",
       "  <thead>\n",
       "    <tr style=\"text-align: right;\">\n",
       "      <th></th>\n",
       "      <th>product_id</th>\n",
       "      <th>quantity_sold</th>\n",
       "      <th>sale_date</th>\n",
       "      <th>location</th>\n",
       "      <th>discount</th>\n",
       "    </tr>\n",
       "  </thead>\n",
       "  <tbody>\n",
       "    <tr>\n",
       "      <th>0</th>\n",
       "      <td>1013</td>\n",
       "      <td>4</td>\n",
       "      <td>2024-09-02</td>\n",
       "      <td>Rajshahi</td>\n",
       "      <td>52.178882</td>\n",
       "    </tr>\n",
       "    <tr>\n",
       "      <th>1</th>\n",
       "      <td>1064</td>\n",
       "      <td>9</td>\n",
       "      <td>2024-02-25</td>\n",
       "      <td>Sylhet</td>\n",
       "      <td>52.059982</td>\n",
       "    </tr>\n",
       "    <tr>\n",
       "      <th>2</th>\n",
       "      <td>1011</td>\n",
       "      <td>2</td>\n",
       "      <td>2024-02-07</td>\n",
       "      <td>Dhaka</td>\n",
       "      <td>7.370982</td>\n",
       "    </tr>\n",
       "    <tr>\n",
       "      <th>3</th>\n",
       "      <td>1019</td>\n",
       "      <td>2</td>\n",
       "      <td>2024-09-01</td>\n",
       "      <td>Sylhet</td>\n",
       "      <td>51.219448</td>\n",
       "    </tr>\n",
       "    <tr>\n",
       "      <th>4</th>\n",
       "      <td>1011</td>\n",
       "      <td>9</td>\n",
       "      <td>2024-01-21</td>\n",
       "      <td>Chittagong</td>\n",
       "      <td>82.274403</td>\n",
       "    </tr>\n",
       "  </tbody>\n",
       "</table>\n",
       "</div>"
      ],
      "text/plain": [
       "   product_id  quantity_sold   sale_date    location   discount\n",
       "0        1013              4  2024-09-02    Rajshahi  52.178882\n",
       "1        1064              9  2024-02-25      Sylhet  52.059982\n",
       "2        1011              2  2024-02-07       Dhaka   7.370982\n",
       "3        1019              2  2024-09-01      Sylhet  51.219448\n",
       "4        1011              9  2024-01-21  Chittagong  82.274403"
      ]
     },
     "execution_count": 5,
     "metadata": {},
     "output_type": "execute_result"
    }
   ],
   "source": [
    "sales_data = pd.read_csv(\n",
    "    sales_path\n",
    ")\n",
    "\n",
    "sales_data.head()"
   ]
  },
  {
   "cell_type": "markdown",
   "id": "27c50bc1",
   "metadata": {},
   "source": [
    "### Step-2:Convert string to datetime "
   ]
  },
  {
   "cell_type": "code",
   "execution_count": 6,
   "id": "0d52cfb1",
   "metadata": {},
   "outputs": [
    {
     "data": {
      "text/plain": [
       "True"
      ]
     },
     "execution_count": 6,
     "metadata": {},
     "output_type": "execute_result"
    }
   ],
   "source": [
    "sales_data['sale_date'] = pd.to_datetime(sales_data['sale_date']).dt.date\n",
    "\n",
    "date1 =datetime.strptime('2024-09-01','%Y-%m-%d').date()\n",
    "date2 =datetime.strptime('2024-09-03','%Y-%m-%d').date()\n",
    "\n",
    "date = sales_data['sale_date'].iloc[0]\n",
    "\n",
    "date1 <= date <= date2"
   ]
  },
  {
   "cell_type": "code",
   "execution_count": 7,
   "id": "4a020a82",
   "metadata": {},
   "outputs": [
    {
     "data": {
      "text/plain": [
       "True"
      ]
     },
     "execution_count": 7,
     "metadata": {},
     "output_type": "execute_result"
    }
   ],
   "source": [
    "purchases_data['purchase_date'] = pd.to_datetime(purchases_data['purchase_date']).dt.date\n",
    "\n",
    "date3 = datetime.strptime('2024-08-18','%Y-%m-%d').date()\n",
    "date4 = datetime.strptime('2024-08-20','%Y-%m-%d').date()\n",
    "Date = purchases_data['purchase_date'].iloc[0]\n",
    "\n",
    "date3 <= Date <= date4"
   ]
  },
  {
   "cell_type": "markdown",
   "id": "bb803846",
   "metadata": {},
   "source": [
    "### Step-3: Compute Current Stock"
   ]
  },
  {
   "cell_type": "code",
   "execution_count": 8,
   "id": "98d73fec",
   "metadata": {},
   "outputs": [
    {
     "data": {
      "text/plain": [
       "np.int64(476)"
      ]
     },
     "execution_count": 8,
     "metadata": {},
     "output_type": "execute_result"
    }
   ],
   "source": [
    "product_id = 1095\n",
    "\n",
    "total_purchase = purchases_data[\n",
    "    purchases_data['product_id'] == product_id]['quantity_purchased'\n",
    "    ].sum()\n",
    "\n",
    "total_sale = sales_data[\n",
    "    sales_data['product_id'] == product_id]['quantity_sold'\n",
    "    ].sum()\n",
    "\n",
    "total_stock = total_purchase - total_sale\n",
    "\n",
    "total_stock"
   ]
  },
  {
   "cell_type": "code",
   "execution_count": 9,
   "id": "a0df5805",
   "metadata": {},
   "outputs": [
    {
     "data": {
      "text/plain": [
       "np.int64(476)"
      ]
     },
     "execution_count": 9,
     "metadata": {},
     "output_type": "execute_result"
    }
   ],
   "source": [
    "def Current_Stock(product_id):\n",
    "    # per product purchase quantity\n",
    "    per_product_purchase = purchases_data[\n",
    "        purchases_data['product_id'] == product_id]['quantity_purchased'\n",
    "    ].sum()\n",
    "\n",
    "    # per product sales quantity\n",
    "    per_product_sale = sales_data[\n",
    "        sales_data['product_id'] == product_id]['quantity_sold'\n",
    "    ].sum()\n",
    "\n",
    "\n",
    "    # Current Stock\n",
    "    per_product_stock = per_product_purchase - per_product_sale\n",
    "\n",
    "    return per_product_stock\n",
    "\n",
    "Current_Stock(1095)"
   ]
  },
  {
   "cell_type": "code",
   "execution_count": 10,
   "id": "1bd5106e",
   "metadata": {},
   "outputs": [
    {
     "data": {
      "text/html": [
       "<div>\n",
       "<style scoped>\n",
       "    .dataframe tbody tr th:only-of-type {\n",
       "        vertical-align: middle;\n",
       "    }\n",
       "\n",
       "    .dataframe tbody tr th {\n",
       "        vertical-align: top;\n",
       "    }\n",
       "\n",
       "    .dataframe thead th {\n",
       "        text-align: right;\n",
       "    }\n",
       "</style>\n",
       "<table border=\"1\" class=\"dataframe\">\n",
       "  <thead>\n",
       "    <tr style=\"text-align: right;\">\n",
       "      <th></th>\n",
       "      <th>product_id</th>\n",
       "      <th>product_name</th>\n",
       "      <th>category</th>\n",
       "      <th>cost_price</th>\n",
       "      <th>selling_price</th>\n",
       "      <th>reorder_level</th>\n",
       "      <th>Current_Stock</th>\n",
       "    </tr>\n",
       "  </thead>\n",
       "  <tbody>\n",
       "    <tr>\n",
       "      <th>0</th>\n",
       "      <td>1001</td>\n",
       "      <td>Organic Rice</td>\n",
       "      <td>Groceries</td>\n",
       "      <td>1551.26</td>\n",
       "      <td>2296.31</td>\n",
       "      <td>43</td>\n",
       "      <td>658</td>\n",
       "    </tr>\n",
       "    <tr>\n",
       "      <th>1</th>\n",
       "      <td>1002</td>\n",
       "      <td>Olive Oil</td>\n",
       "      <td>Groceries</td>\n",
       "      <td>2516.38</td>\n",
       "      <td>3370.60</td>\n",
       "      <td>39</td>\n",
       "      <td>301</td>\n",
       "    </tr>\n",
       "    <tr>\n",
       "      <th>2</th>\n",
       "      <td>1003</td>\n",
       "      <td>Canned Beans</td>\n",
       "      <td>Groceries</td>\n",
       "      <td>961.25</td>\n",
       "      <td>1117.36</td>\n",
       "      <td>30</td>\n",
       "      <td>120</td>\n",
       "    </tr>\n",
       "    <tr>\n",
       "      <th>3</th>\n",
       "      <td>1004</td>\n",
       "      <td>Pasta</td>\n",
       "      <td>Groceries</td>\n",
       "      <td>696.83</td>\n",
       "      <td>1007.94</td>\n",
       "      <td>36</td>\n",
       "      <td>204</td>\n",
       "    </tr>\n",
       "    <tr>\n",
       "      <th>4</th>\n",
       "      <td>1005</td>\n",
       "      <td>Coffee Beans</td>\n",
       "      <td>Groceries</td>\n",
       "      <td>2163.01</td>\n",
       "      <td>2991.94</td>\n",
       "      <td>27</td>\n",
       "      <td>575</td>\n",
       "    </tr>\n",
       "  </tbody>\n",
       "</table>\n",
       "</div>"
      ],
      "text/plain": [
       "   product_id  product_name   category  cost_price  selling_price  \\\n",
       "0        1001  Organic Rice  Groceries     1551.26        2296.31   \n",
       "1        1002     Olive Oil  Groceries     2516.38        3370.60   \n",
       "2        1003  Canned Beans  Groceries      961.25        1117.36   \n",
       "3        1004         Pasta  Groceries      696.83        1007.94   \n",
       "4        1005  Coffee Beans  Groceries     2163.01        2991.94   \n",
       "\n",
       "   reorder_level  Current_Stock  \n",
       "0             43            658  \n",
       "1             39            301  \n",
       "2             30            120  \n",
       "3             36            204  \n",
       "4             27            575  "
      ]
     },
     "execution_count": 10,
     "metadata": {},
     "output_type": "execute_result"
    }
   ],
   "source": [
    "product_data['Current_Stock'] = product_data['product_id'].apply(\n",
    "    lambda product_id : Current_Stock(\n",
    "        product_id=product_id\n",
    "        )\n",
    ")\n",
    "\n",
    "product_data.head()"
   ]
  },
  {
   "cell_type": "markdown",
   "id": "5a4a06d7",
   "metadata": {},
   "source": [
    "### Step-4: Compute per product Profit"
   ]
  },
  {
   "cell_type": "code",
   "execution_count": 11,
   "id": "f84d9b9b",
   "metadata": {},
   "outputs": [
    {
     "data": {
      "text/html": [
       "<div>\n",
       "<style scoped>\n",
       "    .dataframe tbody tr th:only-of-type {\n",
       "        vertical-align: middle;\n",
       "    }\n",
       "\n",
       "    .dataframe tbody tr th {\n",
       "        vertical-align: top;\n",
       "    }\n",
       "\n",
       "    .dataframe thead th {\n",
       "        text-align: right;\n",
       "    }\n",
       "</style>\n",
       "<table border=\"1\" class=\"dataframe\">\n",
       "  <thead>\n",
       "    <tr style=\"text-align: right;\">\n",
       "      <th></th>\n",
       "      <th>product_id</th>\n",
       "      <th>product_name</th>\n",
       "      <th>category</th>\n",
       "      <th>cost_price</th>\n",
       "      <th>selling_price</th>\n",
       "      <th>reorder_level</th>\n",
       "      <th>Current_Stock</th>\n",
       "      <th>Per_Product_Profit</th>\n",
       "    </tr>\n",
       "  </thead>\n",
       "  <tbody>\n",
       "    <tr>\n",
       "      <th>0</th>\n",
       "      <td>1001</td>\n",
       "      <td>Organic Rice</td>\n",
       "      <td>Groceries</td>\n",
       "      <td>1551.26</td>\n",
       "      <td>2296.31</td>\n",
       "      <td>43</td>\n",
       "      <td>658</td>\n",
       "      <td>158695.65</td>\n",
       "    </tr>\n",
       "    <tr>\n",
       "      <th>1</th>\n",
       "      <td>1002</td>\n",
       "      <td>Olive Oil</td>\n",
       "      <td>Groceries</td>\n",
       "      <td>2516.38</td>\n",
       "      <td>3370.60</td>\n",
       "      <td>39</td>\n",
       "      <td>301</td>\n",
       "      <td>146071.62</td>\n",
       "    </tr>\n",
       "    <tr>\n",
       "      <th>2</th>\n",
       "      <td>1003</td>\n",
       "      <td>Canned Beans</td>\n",
       "      <td>Groceries</td>\n",
       "      <td>961.25</td>\n",
       "      <td>1117.36</td>\n",
       "      <td>30</td>\n",
       "      <td>120</td>\n",
       "      <td>33407.54</td>\n",
       "    </tr>\n",
       "    <tr>\n",
       "      <th>3</th>\n",
       "      <td>1004</td>\n",
       "      <td>Pasta</td>\n",
       "      <td>Groceries</td>\n",
       "      <td>696.83</td>\n",
       "      <td>1007.94</td>\n",
       "      <td>36</td>\n",
       "      <td>204</td>\n",
       "      <td>101732.97</td>\n",
       "    </tr>\n",
       "    <tr>\n",
       "      <th>4</th>\n",
       "      <td>1005</td>\n",
       "      <td>Coffee Beans</td>\n",
       "      <td>Groceries</td>\n",
       "      <td>2163.01</td>\n",
       "      <td>2991.94</td>\n",
       "      <td>27</td>\n",
       "      <td>575</td>\n",
       "      <td>134286.66</td>\n",
       "    </tr>\n",
       "  </tbody>\n",
       "</table>\n",
       "</div>"
      ],
      "text/plain": [
       "   product_id  product_name   category  cost_price  selling_price  \\\n",
       "0        1001  Organic Rice  Groceries     1551.26        2296.31   \n",
       "1        1002     Olive Oil  Groceries     2516.38        3370.60   \n",
       "2        1003  Canned Beans  Groceries      961.25        1117.36   \n",
       "3        1004         Pasta  Groceries      696.83        1007.94   \n",
       "4        1005  Coffee Beans  Groceries     2163.01        2991.94   \n",
       "\n",
       "   reorder_level  Current_Stock  Per_Product_Profit  \n",
       "0             43            658           158695.65  \n",
       "1             39            301           146071.62  \n",
       "2             30            120            33407.54  \n",
       "3             36            204           101732.97  \n",
       "4             27            575           134286.66  "
      ]
     },
     "execution_count": 11,
     "metadata": {},
     "output_type": "execute_result"
    }
   ],
   "source": [
    "def per_product_profit(product_id):\n",
    "    per_product_sold_quantity = sales_data[\n",
    "        sales_data['product_id'] == product_id\n",
    "    ]['quantity_sold'].sum()\n",
    "\n",
    "    product = product_data[product_data['product_id'] == product_id]\n",
    "\n",
    "    per_product_profit = product['selling_price'] - product['cost_price']\n",
    "    per_product_profit = per_product_profit.iloc[0]\n",
    "\n",
    "    per_product_total_profit = per_product_profit * per_product_sold_quantity\n",
    "\n",
    "    return per_product_total_profit\n",
    "\n",
    "per_product_profit(1095)\n",
    "\n",
    "product_data['Per_Product_Profit'] = product_data['product_id'].apply(\n",
    "    lambda product_id : per_product_profit(\n",
    "        product_id=product_id\n",
    "        )\n",
    ")\n",
    "\n",
    "product_data.head()\n"
   ]
  },
  {
   "cell_type": "markdown",
   "id": "decf4058",
   "metadata": {},
   "source": [
    "### Step-5:Find the slow moving Products"
   ]
  },
  {
   "cell_type": "code",
   "execution_count": 12,
   "id": "a2199034",
   "metadata": {},
   "outputs": [
    {
     "data": {
      "text/html": [
       "<div>\n",
       "<style scoped>\n",
       "    .dataframe tbody tr th:only-of-type {\n",
       "        vertical-align: middle;\n",
       "    }\n",
       "\n",
       "    .dataframe tbody tr th {\n",
       "        vertical-align: top;\n",
       "    }\n",
       "\n",
       "    .dataframe thead th {\n",
       "        text-align: right;\n",
       "    }\n",
       "</style>\n",
       "<table border=\"1\" class=\"dataframe\">\n",
       "  <thead>\n",
       "    <tr style=\"text-align: right;\">\n",
       "      <th></th>\n",
       "      <th>product_id</th>\n",
       "      <th>product_name</th>\n",
       "      <th>category</th>\n",
       "      <th>cost_price</th>\n",
       "      <th>selling_price</th>\n",
       "      <th>reorder_level</th>\n",
       "      <th>Current_Stock</th>\n",
       "      <th>Per_Product_Profit</th>\n",
       "      <th>Slow_Moving_Products</th>\n",
       "    </tr>\n",
       "  </thead>\n",
       "  <tbody>\n",
       "    <tr>\n",
       "      <th>0</th>\n",
       "      <td>1001</td>\n",
       "      <td>Organic Rice</td>\n",
       "      <td>Groceries</td>\n",
       "      <td>1551.26</td>\n",
       "      <td>2296.31</td>\n",
       "      <td>43</td>\n",
       "      <td>658</td>\n",
       "      <td>158695.65</td>\n",
       "      <td>False</td>\n",
       "    </tr>\n",
       "    <tr>\n",
       "      <th>1</th>\n",
       "      <td>1002</td>\n",
       "      <td>Olive Oil</td>\n",
       "      <td>Groceries</td>\n",
       "      <td>2516.38</td>\n",
       "      <td>3370.60</td>\n",
       "      <td>39</td>\n",
       "      <td>301</td>\n",
       "      <td>146071.62</td>\n",
       "      <td>True</td>\n",
       "    </tr>\n",
       "    <tr>\n",
       "      <th>2</th>\n",
       "      <td>1003</td>\n",
       "      <td>Canned Beans</td>\n",
       "      <td>Groceries</td>\n",
       "      <td>961.25</td>\n",
       "      <td>1117.36</td>\n",
       "      <td>30</td>\n",
       "      <td>120</td>\n",
       "      <td>33407.54</td>\n",
       "      <td>False</td>\n",
       "    </tr>\n",
       "    <tr>\n",
       "      <th>3</th>\n",
       "      <td>1004</td>\n",
       "      <td>Pasta</td>\n",
       "      <td>Groceries</td>\n",
       "      <td>696.83</td>\n",
       "      <td>1007.94</td>\n",
       "      <td>36</td>\n",
       "      <td>204</td>\n",
       "      <td>101732.97</td>\n",
       "      <td>False</td>\n",
       "    </tr>\n",
       "    <tr>\n",
       "      <th>4</th>\n",
       "      <td>1005</td>\n",
       "      <td>Coffee Beans</td>\n",
       "      <td>Groceries</td>\n",
       "      <td>2163.01</td>\n",
       "      <td>2991.94</td>\n",
       "      <td>27</td>\n",
       "      <td>575</td>\n",
       "      <td>134286.66</td>\n",
       "      <td>True</td>\n",
       "    </tr>\n",
       "  </tbody>\n",
       "</table>\n",
       "</div>"
      ],
      "text/plain": [
       "   product_id  product_name   category  cost_price  selling_price  \\\n",
       "0        1001  Organic Rice  Groceries     1551.26        2296.31   \n",
       "1        1002     Olive Oil  Groceries     2516.38        3370.60   \n",
       "2        1003  Canned Beans  Groceries      961.25        1117.36   \n",
       "3        1004         Pasta  Groceries      696.83        1007.94   \n",
       "4        1005  Coffee Beans  Groceries     2163.01        2991.94   \n",
       "\n",
       "   reorder_level  Current_Stock  Per_Product_Profit  Slow_Moving_Products  \n",
       "0             43            658           158695.65                 False  \n",
       "1             39            301           146071.62                  True  \n",
       "2             30            120            33407.54                 False  \n",
       "3             36            204           101732.97                 False  \n",
       "4             27            575           134286.66                  True  "
      ]
     },
     "execution_count": 12,
     "metadata": {},
     "output_type": "execute_result"
    }
   ],
   "source": [
    "startDate = datetime.strptime('2024-12-31','%Y-%m-%d').date()\n",
    "lastDate = startDate - timedelta(days=90)\n",
    "product_id = 1095\n",
    "product_Sale_by_90days = sales_data[ \n",
    "    (sales_data['product_id'] == product_id)&\n",
    "    (sales_data['sale_date'] >= lastDate)\n",
    "]['quantity_sold'].sum()\n",
    "\n",
    "def Slow_Moving_Product(product_id):\n",
    "    per_product_info = sales_data[ \n",
    "        (sales_data['product_id'] == product_id) &\n",
    "        (sales_data['sale_date'] >= lastDate)\n",
    "    ]['quantity_sold'].sum()\n",
    "\n",
    "    return per_product_info < 40\n",
    "\n",
    "product_data['Slow_Moving_Products'] = product_data['product_id'].apply(\n",
    "    lambda product_id: Slow_Moving_Product(\n",
    "        product_id=product_id\n",
    "        )\n",
    ")\n",
    "\n",
    "product_data.head()\n"
   ]
  },
  {
   "cell_type": "markdown",
   "id": "ec2e53d9",
   "metadata": {},
   "source": [
    "### Step-6: Find Over and Under stock"
   ]
  },
  {
   "cell_type": "code",
   "execution_count": 13,
   "id": "2bd02342",
   "metadata": {},
   "outputs": [
    {
     "data": {
      "text/html": [
       "<div>\n",
       "<style scoped>\n",
       "    .dataframe tbody tr th:only-of-type {\n",
       "        vertical-align: middle;\n",
       "    }\n",
       "\n",
       "    .dataframe tbody tr th {\n",
       "        vertical-align: top;\n",
       "    }\n",
       "\n",
       "    .dataframe thead th {\n",
       "        text-align: right;\n",
       "    }\n",
       "</style>\n",
       "<table border=\"1\" class=\"dataframe\">\n",
       "  <thead>\n",
       "    <tr style=\"text-align: right;\">\n",
       "      <th></th>\n",
       "      <th>product_id</th>\n",
       "      <th>product_name</th>\n",
       "      <th>category</th>\n",
       "      <th>cost_price</th>\n",
       "      <th>selling_price</th>\n",
       "      <th>reorder_level</th>\n",
       "      <th>Current_Stock</th>\n",
       "      <th>Per_Product_Profit</th>\n",
       "      <th>Slow_Moving_Products</th>\n",
       "      <th>Stock_Status</th>\n",
       "    </tr>\n",
       "  </thead>\n",
       "  <tbody>\n",
       "    <tr>\n",
       "      <th>0</th>\n",
       "      <td>1001</td>\n",
       "      <td>Organic Rice</td>\n",
       "      <td>Groceries</td>\n",
       "      <td>1551.26</td>\n",
       "      <td>2296.31</td>\n",
       "      <td>43</td>\n",
       "      <td>658</td>\n",
       "      <td>158695.65</td>\n",
       "      <td>False</td>\n",
       "      <td>OverStock</td>\n",
       "    </tr>\n",
       "    <tr>\n",
       "      <th>1</th>\n",
       "      <td>1002</td>\n",
       "      <td>Olive Oil</td>\n",
       "      <td>Groceries</td>\n",
       "      <td>2516.38</td>\n",
       "      <td>3370.60</td>\n",
       "      <td>39</td>\n",
       "      <td>301</td>\n",
       "      <td>146071.62</td>\n",
       "      <td>True</td>\n",
       "      <td>Perfect Stock</td>\n",
       "    </tr>\n",
       "    <tr>\n",
       "      <th>2</th>\n",
       "      <td>1003</td>\n",
       "      <td>Canned Beans</td>\n",
       "      <td>Groceries</td>\n",
       "      <td>961.25</td>\n",
       "      <td>1117.36</td>\n",
       "      <td>30</td>\n",
       "      <td>120</td>\n",
       "      <td>33407.54</td>\n",
       "      <td>False</td>\n",
       "      <td>Perfect Stock</td>\n",
       "    </tr>\n",
       "    <tr>\n",
       "      <th>3</th>\n",
       "      <td>1004</td>\n",
       "      <td>Pasta</td>\n",
       "      <td>Groceries</td>\n",
       "      <td>696.83</td>\n",
       "      <td>1007.94</td>\n",
       "      <td>36</td>\n",
       "      <td>204</td>\n",
       "      <td>101732.97</td>\n",
       "      <td>False</td>\n",
       "      <td>Perfect Stock</td>\n",
       "    </tr>\n",
       "    <tr>\n",
       "      <th>4</th>\n",
       "      <td>1005</td>\n",
       "      <td>Coffee Beans</td>\n",
       "      <td>Groceries</td>\n",
       "      <td>2163.01</td>\n",
       "      <td>2991.94</td>\n",
       "      <td>27</td>\n",
       "      <td>575</td>\n",
       "      <td>134286.66</td>\n",
       "      <td>True</td>\n",
       "      <td>OverStock</td>\n",
       "    </tr>\n",
       "  </tbody>\n",
       "</table>\n",
       "</div>"
      ],
      "text/plain": [
       "   product_id  product_name   category  cost_price  selling_price  \\\n",
       "0        1001  Organic Rice  Groceries     1551.26        2296.31   \n",
       "1        1002     Olive Oil  Groceries     2516.38        3370.60   \n",
       "2        1003  Canned Beans  Groceries      961.25        1117.36   \n",
       "3        1004         Pasta  Groceries      696.83        1007.94   \n",
       "4        1005  Coffee Beans  Groceries     2163.01        2991.94   \n",
       "\n",
       "   reorder_level  Current_Stock  Per_Product_Profit  Slow_Moving_Products  \\\n",
       "0             43            658           158695.65                 False   \n",
       "1             39            301           146071.62                  True   \n",
       "2             30            120            33407.54                 False   \n",
       "3             36            204           101732.97                 False   \n",
       "4             27            575           134286.66                  True   \n",
       "\n",
       "    Stock_Status  \n",
       "0      OverStock  \n",
       "1  Perfect Stock  \n",
       "2  Perfect Stock  \n",
       "3  Perfect Stock  \n",
       "4      OverStock  "
      ]
     },
     "execution_count": 13,
     "metadata": {},
     "output_type": "execute_result"
    }
   ],
   "source": [
    "def Stock_status(product_id):\n",
    "    product = product_data[\n",
    "        product_data['product_id'] == product_id\n",
    "    ].iloc[0]\n",
    "\n",
    "    current_stock = product['Current_Stock']\n",
    "    recorder_level = product['reorder_level']\n",
    "\n",
    "    if current_stock < recorder_level: return 'UnderStock'\n",
    "    elif current_stock > recorder_level*15: return 'OverStock'\n",
    "    return 'Perfect Stock'\n",
    "\n",
    "\n",
    "Stock_status(1095)\n",
    "\n",
    "product_data['Stock_Status'] = product_data['product_id'].apply(\n",
    "    lambda product_id: Stock_status(\n",
    "        product_id=product_id\n",
    "    )\n",
    ")\n",
    "\n",
    "product_data.head()"
   ]
  },
  {
   "cell_type": "markdown",
   "id": "8f9a241c",
   "metadata": {},
   "source": [
    "### Step-7: Per Product Revenue"
   ]
  },
  {
   "cell_type": "code",
   "execution_count": 14,
   "id": "98583311",
   "metadata": {},
   "outputs": [
    {
     "data": {
      "text/plain": [
       "np.float64(13319087.8)"
      ]
     },
     "execution_count": 14,
     "metadata": {},
     "output_type": "execute_result"
    }
   ],
   "source": [
    "def per_product_revenue(product_data, sales_data, product_id):\n",
    "    selling_price = product_data[ \n",
    "        product_data['product_id'] == product_id\n",
    "    ]['selling_price'].iloc[0]\n",
    "\n",
    "    quantity_sold = sales_data[ \n",
    "        sales_data['product_id'] == product_id\n",
    "    ]['quantity_sold'].sum()\n",
    "\n",
    "    revenue = quantity_sold * selling_price\n",
    "\n",
    "    return revenue\n",
    "\n",
    "per_product_revenue(\n",
    "    product_data=product_data,\n",
    "    sales_data=sales_data,\n",
    "    product_id=1095\n",
    ")\n",
    "\n"
   ]
  },
  {
   "cell_type": "markdown",
   "id": "ec0a6e5f",
   "metadata": {},
   "source": [
    "### Step-8: Queries Business data"
   ]
  },
  {
   "cell_type": "code",
   "execution_count": 15,
   "id": "2ff50bed",
   "metadata": {},
   "outputs": [],
   "source": [
    "def sales_between_dates(sales_data, startDate, lastDate, location):\n",
    "    return sales_data[ \n",
    "        (sales_data['sale_date'] >= startDate)&\n",
    "        (sales_data['sale_date'] <= lastDate)&\n",
    "        (sales_data['location'].isin(location))\n",
    "    ]"
   ]
  },
  {
   "cell_type": "code",
   "execution_count": 16,
   "id": "5adc0583",
   "metadata": {},
   "outputs": [],
   "source": [
    "def Selected_category(product_data, category):\n",
    "    return product_data[product_data['category'].isin(category)]\n"
   ]
  },
  {
   "cell_type": "code",
   "execution_count": 17,
   "id": "18135916",
   "metadata": {},
   "outputs": [],
   "source": [
    "def Product_UnderStock(product_data):\n",
    "    return product_data[product_data['Stock_Status'] == 'UnderStock']"
   ]
  },
  {
   "cell_type": "code",
   "execution_count": 18,
   "id": "cfc128d2",
   "metadata": {},
   "outputs": [],
   "source": [
    "def summay_of_data(product_data, sales_data):\n",
    "    total_revenue = product_data['product_id'].apply(\n",
    "        lambda product_id: per_product_revenue(\n",
    "            product_data=product_data,\n",
    "            product_id=product_id,\n",
    "            sales_data=sales_data\n",
    "        )\n",
    "    ).sum()\n",
    "\n",
    "    total_profit = product_data['Per_Product_Profit'].sum()\n",
    "    total_sold_quantity = sales_data['quantity_sold'].sum()\n",
    "    total_understock = len(Product_UnderStock(\n",
    "        product_data=product_data\n",
    "    ))\n",
    "\n",
    "\n",
    "    return {\n",
    "        'Total Revenue (K)':int(total_revenue/1e3),\n",
    "        'Total Profit (K)':int(total_profit/1e3),\n",
    "        'Total Sold Quantity (K)' : int(total_sold_quantity/1e3),\n",
    "        'Total Understock Product ':total_understock\n",
    "    }"
   ]
  },
  {
   "cell_type": "code",
   "execution_count": 19,
   "id": "ad59a9aa",
   "metadata": {},
   "outputs": [],
   "source": [
    "Start_date  = datetime.strptime('2024-01-01','%Y-%m-%d').date()\n",
    "Last_date  = datetime.strptime('2024-12-31','%Y-%m-%d').date()\n",
    "\n",
    "category_select = ['Groceries']\n",
    "location_select = ['Dhaka']"
   ]
  },
  {
   "cell_type": "code",
   "execution_count": 20,
   "id": "98ff5a6d",
   "metadata": {},
   "outputs": [
    {
     "data": {
      "text/html": [
       "<div>\n",
       "<style scoped>\n",
       "    .dataframe tbody tr th:only-of-type {\n",
       "        vertical-align: middle;\n",
       "    }\n",
       "\n",
       "    .dataframe tbody tr th {\n",
       "        vertical-align: top;\n",
       "    }\n",
       "\n",
       "    .dataframe thead th {\n",
       "        text-align: right;\n",
       "    }\n",
       "</style>\n",
       "<table border=\"1\" class=\"dataframe\">\n",
       "  <thead>\n",
       "    <tr style=\"text-align: right;\">\n",
       "      <th></th>\n",
       "      <th>product_id</th>\n",
       "      <th>quantity_sold</th>\n",
       "      <th>sale_date</th>\n",
       "      <th>location</th>\n",
       "      <th>discount</th>\n",
       "    </tr>\n",
       "  </thead>\n",
       "  <tbody>\n",
       "    <tr>\n",
       "      <th>2</th>\n",
       "      <td>1011</td>\n",
       "      <td>2</td>\n",
       "      <td>2024-02-07</td>\n",
       "      <td>Dhaka</td>\n",
       "      <td>7.370982</td>\n",
       "    </tr>\n",
       "    <tr>\n",
       "      <th>5</th>\n",
       "      <td>1077</td>\n",
       "      <td>7</td>\n",
       "      <td>2024-04-19</td>\n",
       "      <td>Dhaka</td>\n",
       "      <td>94.679928</td>\n",
       "    </tr>\n",
       "    <tr>\n",
       "      <th>8</th>\n",
       "      <td>1001</td>\n",
       "      <td>6</td>\n",
       "      <td>2024-08-18</td>\n",
       "      <td>Dhaka</td>\n",
       "      <td>56.834725</td>\n",
       "    </tr>\n",
       "    <tr>\n",
       "      <th>9</th>\n",
       "      <td>1040</td>\n",
       "      <td>7</td>\n",
       "      <td>2024-01-08</td>\n",
       "      <td>Dhaka</td>\n",
       "      <td>89.031249</td>\n",
       "    </tr>\n",
       "    <tr>\n",
       "      <th>11</th>\n",
       "      <td>1076</td>\n",
       "      <td>6</td>\n",
       "      <td>2024-10-16</td>\n",
       "      <td>Dhaka</td>\n",
       "      <td>96.526187</td>\n",
       "    </tr>\n",
       "  </tbody>\n",
       "</table>\n",
       "</div>"
      ],
      "text/plain": [
       "    product_id  quantity_sold   sale_date location   discount\n",
       "2         1011              2  2024-02-07    Dhaka   7.370982\n",
       "5         1077              7  2024-04-19    Dhaka  94.679928\n",
       "8         1001              6  2024-08-18    Dhaka  56.834725\n",
       "9         1040              7  2024-01-08    Dhaka  89.031249\n",
       "11        1076              6  2024-10-16    Dhaka  96.526187"
      ]
     },
     "execution_count": 20,
     "metadata": {},
     "output_type": "execute_result"
    }
   ],
   "source": [
    "filtered_sales = sales_between_dates(\n",
    "    sales_data=sales_data,\n",
    "    startDate=Start_date,\n",
    "    lastDate=Last_date,\n",
    "    location=location_select\n",
    ")\n",
    "filtered_sales.head()"
   ]
  },
  {
   "cell_type": "code",
   "execution_count": 21,
   "id": "82364af6",
   "metadata": {},
   "outputs": [
    {
     "data": {
      "text/html": [
       "<div>\n",
       "<style scoped>\n",
       "    .dataframe tbody tr th:only-of-type {\n",
       "        vertical-align: middle;\n",
       "    }\n",
       "\n",
       "    .dataframe tbody tr th {\n",
       "        vertical-align: top;\n",
       "    }\n",
       "\n",
       "    .dataframe thead th {\n",
       "        text-align: right;\n",
       "    }\n",
       "</style>\n",
       "<table border=\"1\" class=\"dataframe\">\n",
       "  <thead>\n",
       "    <tr style=\"text-align: right;\">\n",
       "      <th></th>\n",
       "      <th>product_id</th>\n",
       "      <th>product_name</th>\n",
       "      <th>category</th>\n",
       "      <th>cost_price</th>\n",
       "      <th>selling_price</th>\n",
       "      <th>reorder_level</th>\n",
       "      <th>Current_Stock</th>\n",
       "      <th>Per_Product_Profit</th>\n",
       "      <th>Slow_Moving_Products</th>\n",
       "      <th>Stock_Status</th>\n",
       "    </tr>\n",
       "  </thead>\n",
       "  <tbody>\n",
       "    <tr>\n",
       "      <th>0</th>\n",
       "      <td>1001</td>\n",
       "      <td>Organic Rice</td>\n",
       "      <td>Groceries</td>\n",
       "      <td>1551.26</td>\n",
       "      <td>2296.31</td>\n",
       "      <td>43</td>\n",
       "      <td>658</td>\n",
       "      <td>158695.65</td>\n",
       "      <td>False</td>\n",
       "      <td>OverStock</td>\n",
       "    </tr>\n",
       "    <tr>\n",
       "      <th>1</th>\n",
       "      <td>1002</td>\n",
       "      <td>Olive Oil</td>\n",
       "      <td>Groceries</td>\n",
       "      <td>2516.38</td>\n",
       "      <td>3370.60</td>\n",
       "      <td>39</td>\n",
       "      <td>301</td>\n",
       "      <td>146071.62</td>\n",
       "      <td>True</td>\n",
       "      <td>Perfect Stock</td>\n",
       "    </tr>\n",
       "    <tr>\n",
       "      <th>2</th>\n",
       "      <td>1003</td>\n",
       "      <td>Canned Beans</td>\n",
       "      <td>Groceries</td>\n",
       "      <td>961.25</td>\n",
       "      <td>1117.36</td>\n",
       "      <td>30</td>\n",
       "      <td>120</td>\n",
       "      <td>33407.54</td>\n",
       "      <td>False</td>\n",
       "      <td>Perfect Stock</td>\n",
       "    </tr>\n",
       "    <tr>\n",
       "      <th>3</th>\n",
       "      <td>1004</td>\n",
       "      <td>Pasta</td>\n",
       "      <td>Groceries</td>\n",
       "      <td>696.83</td>\n",
       "      <td>1007.94</td>\n",
       "      <td>36</td>\n",
       "      <td>204</td>\n",
       "      <td>101732.97</td>\n",
       "      <td>False</td>\n",
       "      <td>Perfect Stock</td>\n",
       "    </tr>\n",
       "    <tr>\n",
       "      <th>4</th>\n",
       "      <td>1005</td>\n",
       "      <td>Coffee Beans</td>\n",
       "      <td>Groceries</td>\n",
       "      <td>2163.01</td>\n",
       "      <td>2991.94</td>\n",
       "      <td>27</td>\n",
       "      <td>575</td>\n",
       "      <td>134286.66</td>\n",
       "      <td>True</td>\n",
       "      <td>OverStock</td>\n",
       "    </tr>\n",
       "  </tbody>\n",
       "</table>\n",
       "</div>"
      ],
      "text/plain": [
       "   product_id  product_name   category  cost_price  selling_price  \\\n",
       "0        1001  Organic Rice  Groceries     1551.26        2296.31   \n",
       "1        1002     Olive Oil  Groceries     2516.38        3370.60   \n",
       "2        1003  Canned Beans  Groceries      961.25        1117.36   \n",
       "3        1004         Pasta  Groceries      696.83        1007.94   \n",
       "4        1005  Coffee Beans  Groceries     2163.01        2991.94   \n",
       "\n",
       "   reorder_level  Current_Stock  Per_Product_Profit  Slow_Moving_Products  \\\n",
       "0             43            658           158695.65                 False   \n",
       "1             39            301           146071.62                  True   \n",
       "2             30            120            33407.54                 False   \n",
       "3             36            204           101732.97                 False   \n",
       "4             27            575           134286.66                  True   \n",
       "\n",
       "    Stock_Status  \n",
       "0      OverStock  \n",
       "1  Perfect Stock  \n",
       "2  Perfect Stock  \n",
       "3  Perfect Stock  \n",
       "4      OverStock  "
      ]
     },
     "execution_count": 21,
     "metadata": {},
     "output_type": "execute_result"
    }
   ],
   "source": [
    "select_category_func=Selected_category(\n",
    "    product_data=product_data,\n",
    "    category=category_select\n",
    ")\n",
    "select_category_func.head()"
   ]
  },
  {
   "cell_type": "code",
   "execution_count": 22,
   "id": "b4aa2e2e",
   "metadata": {},
   "outputs": [
    {
     "data": {
      "text/html": [
       "<div>\n",
       "<style scoped>\n",
       "    .dataframe tbody tr th:only-of-type {\n",
       "        vertical-align: middle;\n",
       "    }\n",
       "\n",
       "    .dataframe tbody tr th {\n",
       "        vertical-align: top;\n",
       "    }\n",
       "\n",
       "    .dataframe thead th {\n",
       "        text-align: right;\n",
       "    }\n",
       "</style>\n",
       "<table border=\"1\" class=\"dataframe\">\n",
       "  <thead>\n",
       "    <tr style=\"text-align: right;\">\n",
       "      <th></th>\n",
       "      <th>product_id</th>\n",
       "      <th>product_name</th>\n",
       "      <th>category</th>\n",
       "      <th>cost_price</th>\n",
       "      <th>selling_price</th>\n",
       "      <th>reorder_level</th>\n",
       "      <th>Current_Stock</th>\n",
       "      <th>Per_Product_Profit</th>\n",
       "      <th>Slow_Moving_Products</th>\n",
       "      <th>Stock_Status</th>\n",
       "    </tr>\n",
       "  </thead>\n",
       "  <tbody>\n",
       "    <tr>\n",
       "      <th>10</th>\n",
       "      <td>1011</td>\n",
       "      <td>Wireless Mouse</td>\n",
       "      <td>Electronics</td>\n",
       "      <td>54960.08</td>\n",
       "      <td>70552.06</td>\n",
       "      <td>22</td>\n",
       "      <td>-30</td>\n",
       "      <td>3570563.42</td>\n",
       "      <td>False</td>\n",
       "      <td>UnderStock</td>\n",
       "    </tr>\n",
       "    <tr>\n",
       "      <th>27</th>\n",
       "      <td>1028</td>\n",
       "      <td>Sunglasses</td>\n",
       "      <td>Clothing</td>\n",
       "      <td>6891.59</td>\n",
       "      <td>13406.29</td>\n",
       "      <td>20</td>\n",
       "      <td>-35</td>\n",
       "      <td>2019557.00</td>\n",
       "      <td>False</td>\n",
       "      <td>UnderStock</td>\n",
       "    </tr>\n",
       "    <tr>\n",
       "      <th>30</th>\n",
       "      <td>1031</td>\n",
       "      <td>Fresh Salmon</td>\n",
       "      <td>Perishables</td>\n",
       "      <td>1181.47</td>\n",
       "      <td>1352.76</td>\n",
       "      <td>33</td>\n",
       "      <td>22</td>\n",
       "      <td>29804.46</td>\n",
       "      <td>False</td>\n",
       "      <td>UnderStock</td>\n",
       "    </tr>\n",
       "    <tr>\n",
       "      <th>47</th>\n",
       "      <td>1048</td>\n",
       "      <td>Almond Milk</td>\n",
       "      <td>Groceries</td>\n",
       "      <td>2621.61</td>\n",
       "      <td>3401.59</td>\n",
       "      <td>33</td>\n",
       "      <td>-47</td>\n",
       "      <td>180955.36</td>\n",
       "      <td>False</td>\n",
       "      <td>UnderStock</td>\n",
       "    </tr>\n",
       "    <tr>\n",
       "      <th>58</th>\n",
       "      <td>1059</td>\n",
       "      <td>Fitness Tracker</td>\n",
       "      <td>Electronics</td>\n",
       "      <td>70497.44</td>\n",
       "      <td>92488.55</td>\n",
       "      <td>40</td>\n",
       "      <td>-101</td>\n",
       "      <td>8774452.89</td>\n",
       "      <td>False</td>\n",
       "      <td>UnderStock</td>\n",
       "    </tr>\n",
       "  </tbody>\n",
       "</table>\n",
       "</div>"
      ],
      "text/plain": [
       "    product_id     product_name     category  cost_price  selling_price  \\\n",
       "10        1011   Wireless Mouse  Electronics    54960.08       70552.06   \n",
       "27        1028       Sunglasses     Clothing     6891.59       13406.29   \n",
       "30        1031     Fresh Salmon  Perishables     1181.47        1352.76   \n",
       "47        1048      Almond Milk    Groceries     2621.61        3401.59   \n",
       "58        1059  Fitness Tracker  Electronics    70497.44       92488.55   \n",
       "\n",
       "    reorder_level  Current_Stock  Per_Product_Profit  Slow_Moving_Products  \\\n",
       "10             22            -30          3570563.42                 False   \n",
       "27             20            -35          2019557.00                 False   \n",
       "30             33             22            29804.46                 False   \n",
       "47             33            -47           180955.36                 False   \n",
       "58             40           -101          8774452.89                 False   \n",
       "\n",
       "   Stock_Status  \n",
       "10   UnderStock  \n",
       "27   UnderStock  \n",
       "30   UnderStock  \n",
       "47   UnderStock  \n",
       "58   UnderStock  "
      ]
     },
     "execution_count": 22,
     "metadata": {},
     "output_type": "execute_result"
    }
   ],
   "source": [
    "select_understock_func = Product_UnderStock(\n",
    "    product_data=product_data\n",
    ")\n",
    "\n",
    "select_understock_func.head()"
   ]
  },
  {
   "cell_type": "markdown",
   "id": "126511e7",
   "metadata": {},
   "source": [
    "### Step-9: Visualaization by plot"
   ]
  },
  {
   "cell_type": "code",
   "execution_count": 23,
   "id": "869b6631",
   "metadata": {},
   "outputs": [
    {
     "name": "stdout",
     "output_type": "stream",
     "text": [
      "    product_name  Per_Product_Profit\n",
      "44  Coffee Beans           246773.82\n",
      "46  Granola Bars           241602.34\n",
      "81     Olive Oil           200182.88\n",
      "43         Pasta           197819.76\n",
      "40  Organic Rice           192514.56\n",
      "47   Almond Milk           180955.36\n",
      "0   Organic Rice           158695.65\n",
      "80  Organic Rice           153655.36\n",
      "1      Olive Oil           146071.62\n",
      "48         Honey           142789.50\n"
     ]
    },
    {
     "data": {
      "application/vnd.plotly.v1+json": {
       "config": {
        "plotlyServerURL": "https://plot.ly"
       },
       "data": [
        {
         "hovertemplate": "product_name=%{x}<br>Per_Product_Profit=%{y}<extra></extra>",
         "legendgroup": "",
         "marker": {
          "color": "#636efa",
          "pattern": {
           "shape": ""
          }
         },
         "name": "",
         "orientation": "v",
         "showlegend": false,
         "textposition": "auto",
         "type": "bar",
         "x": [
          "Coffee Beans",
          "Granola Bars",
          "Olive Oil",
          "Pasta",
          "Organic Rice",
          "Almond Milk",
          "Organic Rice",
          "Organic Rice",
          "Olive Oil",
          "Honey"
         ],
         "xaxis": "x",
         "y": {
          "bdata": "9ihcj64fDkGH61G4En4NQaFwPQq3bwhBR+F6FN4lCEGtR+F6FIAHQRWuR+HaFgZBMzMzMz1fA0EWrkfhusECQVuPwvW81AFB/////ytuAUE=",
          "dtype": "f8"
         },
         "yaxis": "y"
        }
       ],
       "layout": {
        "barmode": "relative",
        "legend": {
         "tracegroupgap": 0
        },
        "template": {
         "data": {
          "bar": [
           {
            "error_x": {
             "color": "#2a3f5f"
            },
            "error_y": {
             "color": "#2a3f5f"
            },
            "marker": {
             "line": {
              "color": "#E5ECF6",
              "width": 0.5
             },
             "pattern": {
              "fillmode": "overlay",
              "size": 10,
              "solidity": 0.2
             }
            },
            "type": "bar"
           }
          ],
          "barpolar": [
           {
            "marker": {
             "line": {
              "color": "#E5ECF6",
              "width": 0.5
             },
             "pattern": {
              "fillmode": "overlay",
              "size": 10,
              "solidity": 0.2
             }
            },
            "type": "barpolar"
           }
          ],
          "carpet": [
           {
            "aaxis": {
             "endlinecolor": "#2a3f5f",
             "gridcolor": "white",
             "linecolor": "white",
             "minorgridcolor": "white",
             "startlinecolor": "#2a3f5f"
            },
            "baxis": {
             "endlinecolor": "#2a3f5f",
             "gridcolor": "white",
             "linecolor": "white",
             "minorgridcolor": "white",
             "startlinecolor": "#2a3f5f"
            },
            "type": "carpet"
           }
          ],
          "choropleth": [
           {
            "colorbar": {
             "outlinewidth": 0,
             "ticks": ""
            },
            "type": "choropleth"
           }
          ],
          "contour": [
           {
            "colorbar": {
             "outlinewidth": 0,
             "ticks": ""
            },
            "colorscale": [
             [
              0,
              "#0d0887"
             ],
             [
              0.1111111111111111,
              "#46039f"
             ],
             [
              0.2222222222222222,
              "#7201a8"
             ],
             [
              0.3333333333333333,
              "#9c179e"
             ],
             [
              0.4444444444444444,
              "#bd3786"
             ],
             [
              0.5555555555555556,
              "#d8576b"
             ],
             [
              0.6666666666666666,
              "#ed7953"
             ],
             [
              0.7777777777777778,
              "#fb9f3a"
             ],
             [
              0.8888888888888888,
              "#fdca26"
             ],
             [
              1,
              "#f0f921"
             ]
            ],
            "type": "contour"
           }
          ],
          "contourcarpet": [
           {
            "colorbar": {
             "outlinewidth": 0,
             "ticks": ""
            },
            "type": "contourcarpet"
           }
          ],
          "heatmap": [
           {
            "colorbar": {
             "outlinewidth": 0,
             "ticks": ""
            },
            "colorscale": [
             [
              0,
              "#0d0887"
             ],
             [
              0.1111111111111111,
              "#46039f"
             ],
             [
              0.2222222222222222,
              "#7201a8"
             ],
             [
              0.3333333333333333,
              "#9c179e"
             ],
             [
              0.4444444444444444,
              "#bd3786"
             ],
             [
              0.5555555555555556,
              "#d8576b"
             ],
             [
              0.6666666666666666,
              "#ed7953"
             ],
             [
              0.7777777777777778,
              "#fb9f3a"
             ],
             [
              0.8888888888888888,
              "#fdca26"
             ],
             [
              1,
              "#f0f921"
             ]
            ],
            "type": "heatmap"
           }
          ],
          "histogram": [
           {
            "marker": {
             "pattern": {
              "fillmode": "overlay",
              "size": 10,
              "solidity": 0.2
             }
            },
            "type": "histogram"
           }
          ],
          "histogram2d": [
           {
            "colorbar": {
             "outlinewidth": 0,
             "ticks": ""
            },
            "colorscale": [
             [
              0,
              "#0d0887"
             ],
             [
              0.1111111111111111,
              "#46039f"
             ],
             [
              0.2222222222222222,
              "#7201a8"
             ],
             [
              0.3333333333333333,
              "#9c179e"
             ],
             [
              0.4444444444444444,
              "#bd3786"
             ],
             [
              0.5555555555555556,
              "#d8576b"
             ],
             [
              0.6666666666666666,
              "#ed7953"
             ],
             [
              0.7777777777777778,
              "#fb9f3a"
             ],
             [
              0.8888888888888888,
              "#fdca26"
             ],
             [
              1,
              "#f0f921"
             ]
            ],
            "type": "histogram2d"
           }
          ],
          "histogram2dcontour": [
           {
            "colorbar": {
             "outlinewidth": 0,
             "ticks": ""
            },
            "colorscale": [
             [
              0,
              "#0d0887"
             ],
             [
              0.1111111111111111,
              "#46039f"
             ],
             [
              0.2222222222222222,
              "#7201a8"
             ],
             [
              0.3333333333333333,
              "#9c179e"
             ],
             [
              0.4444444444444444,
              "#bd3786"
             ],
             [
              0.5555555555555556,
              "#d8576b"
             ],
             [
              0.6666666666666666,
              "#ed7953"
             ],
             [
              0.7777777777777778,
              "#fb9f3a"
             ],
             [
              0.8888888888888888,
              "#fdca26"
             ],
             [
              1,
              "#f0f921"
             ]
            ],
            "type": "histogram2dcontour"
           }
          ],
          "mesh3d": [
           {
            "colorbar": {
             "outlinewidth": 0,
             "ticks": ""
            },
            "type": "mesh3d"
           }
          ],
          "parcoords": [
           {
            "line": {
             "colorbar": {
              "outlinewidth": 0,
              "ticks": ""
             }
            },
            "type": "parcoords"
           }
          ],
          "pie": [
           {
            "automargin": true,
            "type": "pie"
           }
          ],
          "scatter": [
           {
            "fillpattern": {
             "fillmode": "overlay",
             "size": 10,
             "solidity": 0.2
            },
            "type": "scatter"
           }
          ],
          "scatter3d": [
           {
            "line": {
             "colorbar": {
              "outlinewidth": 0,
              "ticks": ""
             }
            },
            "marker": {
             "colorbar": {
              "outlinewidth": 0,
              "ticks": ""
             }
            },
            "type": "scatter3d"
           }
          ],
          "scattercarpet": [
           {
            "marker": {
             "colorbar": {
              "outlinewidth": 0,
              "ticks": ""
             }
            },
            "type": "scattercarpet"
           }
          ],
          "scattergeo": [
           {
            "marker": {
             "colorbar": {
              "outlinewidth": 0,
              "ticks": ""
             }
            },
            "type": "scattergeo"
           }
          ],
          "scattergl": [
           {
            "marker": {
             "colorbar": {
              "outlinewidth": 0,
              "ticks": ""
             }
            },
            "type": "scattergl"
           }
          ],
          "scattermap": [
           {
            "marker": {
             "colorbar": {
              "outlinewidth": 0,
              "ticks": ""
             }
            },
            "type": "scattermap"
           }
          ],
          "scattermapbox": [
           {
            "marker": {
             "colorbar": {
              "outlinewidth": 0,
              "ticks": ""
             }
            },
            "type": "scattermapbox"
           }
          ],
          "scatterpolar": [
           {
            "marker": {
             "colorbar": {
              "outlinewidth": 0,
              "ticks": ""
             }
            },
            "type": "scatterpolar"
           }
          ],
          "scatterpolargl": [
           {
            "marker": {
             "colorbar": {
              "outlinewidth": 0,
              "ticks": ""
             }
            },
            "type": "scatterpolargl"
           }
          ],
          "scatterternary": [
           {
            "marker": {
             "colorbar": {
              "outlinewidth": 0,
              "ticks": ""
             }
            },
            "type": "scatterternary"
           }
          ],
          "surface": [
           {
            "colorbar": {
             "outlinewidth": 0,
             "ticks": ""
            },
            "colorscale": [
             [
              0,
              "#0d0887"
             ],
             [
              0.1111111111111111,
              "#46039f"
             ],
             [
              0.2222222222222222,
              "#7201a8"
             ],
             [
              0.3333333333333333,
              "#9c179e"
             ],
             [
              0.4444444444444444,
              "#bd3786"
             ],
             [
              0.5555555555555556,
              "#d8576b"
             ],
             [
              0.6666666666666666,
              "#ed7953"
             ],
             [
              0.7777777777777778,
              "#fb9f3a"
             ],
             [
              0.8888888888888888,
              "#fdca26"
             ],
             [
              1,
              "#f0f921"
             ]
            ],
            "type": "surface"
           }
          ],
          "table": [
           {
            "cells": {
             "fill": {
              "color": "#EBF0F8"
             },
             "line": {
              "color": "white"
             }
            },
            "header": {
             "fill": {
              "color": "#C8D4E3"
             },
             "line": {
              "color": "white"
             }
            },
            "type": "table"
           }
          ]
         },
         "layout": {
          "annotationdefaults": {
           "arrowcolor": "#2a3f5f",
           "arrowhead": 0,
           "arrowwidth": 1
          },
          "autotypenumbers": "strict",
          "coloraxis": {
           "colorbar": {
            "outlinewidth": 0,
            "ticks": ""
           }
          },
          "colorscale": {
           "diverging": [
            [
             0,
             "#8e0152"
            ],
            [
             0.1,
             "#c51b7d"
            ],
            [
             0.2,
             "#de77ae"
            ],
            [
             0.3,
             "#f1b6da"
            ],
            [
             0.4,
             "#fde0ef"
            ],
            [
             0.5,
             "#f7f7f7"
            ],
            [
             0.6,
             "#e6f5d0"
            ],
            [
             0.7,
             "#b8e186"
            ],
            [
             0.8,
             "#7fbc41"
            ],
            [
             0.9,
             "#4d9221"
            ],
            [
             1,
             "#276419"
            ]
           ],
           "sequential": [
            [
             0,
             "#0d0887"
            ],
            [
             0.1111111111111111,
             "#46039f"
            ],
            [
             0.2222222222222222,
             "#7201a8"
            ],
            [
             0.3333333333333333,
             "#9c179e"
            ],
            [
             0.4444444444444444,
             "#bd3786"
            ],
            [
             0.5555555555555556,
             "#d8576b"
            ],
            [
             0.6666666666666666,
             "#ed7953"
            ],
            [
             0.7777777777777778,
             "#fb9f3a"
            ],
            [
             0.8888888888888888,
             "#fdca26"
            ],
            [
             1,
             "#f0f921"
            ]
           ],
           "sequentialminus": [
            [
             0,
             "#0d0887"
            ],
            [
             0.1111111111111111,
             "#46039f"
            ],
            [
             0.2222222222222222,
             "#7201a8"
            ],
            [
             0.3333333333333333,
             "#9c179e"
            ],
            [
             0.4444444444444444,
             "#bd3786"
            ],
            [
             0.5555555555555556,
             "#d8576b"
            ],
            [
             0.6666666666666666,
             "#ed7953"
            ],
            [
             0.7777777777777778,
             "#fb9f3a"
            ],
            [
             0.8888888888888888,
             "#fdca26"
            ],
            [
             1,
             "#f0f921"
            ]
           ]
          },
          "colorway": [
           "#636efa",
           "#EF553B",
           "#00cc96",
           "#ab63fa",
           "#FFA15A",
           "#19d3f3",
           "#FF6692",
           "#B6E880",
           "#FF97FF",
           "#FECB52"
          ],
          "font": {
           "color": "#2a3f5f"
          },
          "geo": {
           "bgcolor": "white",
           "lakecolor": "white",
           "landcolor": "#E5ECF6",
           "showlakes": true,
           "showland": true,
           "subunitcolor": "white"
          },
          "hoverlabel": {
           "align": "left"
          },
          "hovermode": "closest",
          "mapbox": {
           "style": "light"
          },
          "paper_bgcolor": "white",
          "plot_bgcolor": "#E5ECF6",
          "polar": {
           "angularaxis": {
            "gridcolor": "white",
            "linecolor": "white",
            "ticks": ""
           },
           "bgcolor": "#E5ECF6",
           "radialaxis": {
            "gridcolor": "white",
            "linecolor": "white",
            "ticks": ""
           }
          },
          "scene": {
           "xaxis": {
            "backgroundcolor": "#E5ECF6",
            "gridcolor": "white",
            "gridwidth": 2,
            "linecolor": "white",
            "showbackground": true,
            "ticks": "",
            "zerolinecolor": "white"
           },
           "yaxis": {
            "backgroundcolor": "#E5ECF6",
            "gridcolor": "white",
            "gridwidth": 2,
            "linecolor": "white",
            "showbackground": true,
            "ticks": "",
            "zerolinecolor": "white"
           },
           "zaxis": {
            "backgroundcolor": "#E5ECF6",
            "gridcolor": "white",
            "gridwidth": 2,
            "linecolor": "white",
            "showbackground": true,
            "ticks": "",
            "zerolinecolor": "white"
           }
          },
          "shapedefaults": {
           "line": {
            "color": "#2a3f5f"
           }
          },
          "ternary": {
           "aaxis": {
            "gridcolor": "white",
            "linecolor": "white",
            "ticks": ""
           },
           "baxis": {
            "gridcolor": "white",
            "linecolor": "white",
            "ticks": ""
           },
           "bgcolor": "#E5ECF6",
           "caxis": {
            "gridcolor": "white",
            "linecolor": "white",
            "ticks": ""
           }
          },
          "title": {
           "x": 0.05
          },
          "xaxis": {
           "automargin": true,
           "gridcolor": "white",
           "linecolor": "white",
           "ticks": "",
           "title": {
            "standoff": 15
           },
           "zerolinecolor": "white",
           "zerolinewidth": 2
          },
          "yaxis": {
           "automargin": true,
           "gridcolor": "white",
           "linecolor": "white",
           "ticks": "",
           "title": {
            "standoff": 15
           },
           "zerolinecolor": "white",
           "zerolinewidth": 2
          }
         }
        },
        "title": {
         "text": "Top 10 Products"
        },
        "xaxis": {
         "anchor": "y",
         "domain": [
          0,
          1
         ],
         "title": {
          "text": "product_name"
         }
        },
        "yaxis": {
         "anchor": "x",
         "domain": [
          0,
          1
         ],
         "title": {
          "text": "Per_Product_Profit"
         }
        }
       }
      }
     },
     "metadata": {},
     "output_type": "display_data"
    }
   ],
   "source": [
    "top_products = select_category_func.nlargest(10,'Per_Product_Profit')[['product_name', 'Per_Product_Profit']]\n",
    "print(top_products)\n",
    "\n",
    "plot1 = plt.bar(top_products, x='product_name', y='Per_Product_Profit',title='Top 10 Products')\n",
    "plot1.show()"
   ]
  },
  {
   "cell_type": "code",
   "execution_count": 26,
   "id": "6200b0e4",
   "metadata": {},
   "outputs": [
    {
     "data": {
      "application/vnd.plotly.v1+json": {
       "config": {
        "plotlyServerURL": "https://plot.ly"
       },
       "data": [
        {
         "domain": {
          "x": [
           0,
           1
          ],
          "y": [
           0,
           1
          ]
         },
         "hovertemplate": "category=%{label}<br>Per_Product_Profit=%{value}<extra></extra>",
         "labels": [
          "Groceries"
         ],
         "legendgroup": "",
         "name": "",
         "showlegend": true,
         "type": "pie",
         "values": {
          "bdata": "pHA9KpsJS0E=",
          "dtype": "f8"
         }
        }
       ],
       "layout": {
        "legend": {
         "tracegroupgap": 0
        },
        "template": {
         "data": {
          "bar": [
           {
            "error_x": {
             "color": "#2a3f5f"
            },
            "error_y": {
             "color": "#2a3f5f"
            },
            "marker": {
             "line": {
              "color": "#E5ECF6",
              "width": 0.5
             },
             "pattern": {
              "fillmode": "overlay",
              "size": 10,
              "solidity": 0.2
             }
            },
            "type": "bar"
           }
          ],
          "barpolar": [
           {
            "marker": {
             "line": {
              "color": "#E5ECF6",
              "width": 0.5
             },
             "pattern": {
              "fillmode": "overlay",
              "size": 10,
              "solidity": 0.2
             }
            },
            "type": "barpolar"
           }
          ],
          "carpet": [
           {
            "aaxis": {
             "endlinecolor": "#2a3f5f",
             "gridcolor": "white",
             "linecolor": "white",
             "minorgridcolor": "white",
             "startlinecolor": "#2a3f5f"
            },
            "baxis": {
             "endlinecolor": "#2a3f5f",
             "gridcolor": "white",
             "linecolor": "white",
             "minorgridcolor": "white",
             "startlinecolor": "#2a3f5f"
            },
            "type": "carpet"
           }
          ],
          "choropleth": [
           {
            "colorbar": {
             "outlinewidth": 0,
             "ticks": ""
            },
            "type": "choropleth"
           }
          ],
          "contour": [
           {
            "colorbar": {
             "outlinewidth": 0,
             "ticks": ""
            },
            "colorscale": [
             [
              0,
              "#0d0887"
             ],
             [
              0.1111111111111111,
              "#46039f"
             ],
             [
              0.2222222222222222,
              "#7201a8"
             ],
             [
              0.3333333333333333,
              "#9c179e"
             ],
             [
              0.4444444444444444,
              "#bd3786"
             ],
             [
              0.5555555555555556,
              "#d8576b"
             ],
             [
              0.6666666666666666,
              "#ed7953"
             ],
             [
              0.7777777777777778,
              "#fb9f3a"
             ],
             [
              0.8888888888888888,
              "#fdca26"
             ],
             [
              1,
              "#f0f921"
             ]
            ],
            "type": "contour"
           }
          ],
          "contourcarpet": [
           {
            "colorbar": {
             "outlinewidth": 0,
             "ticks": ""
            },
            "type": "contourcarpet"
           }
          ],
          "heatmap": [
           {
            "colorbar": {
             "outlinewidth": 0,
             "ticks": ""
            },
            "colorscale": [
             [
              0,
              "#0d0887"
             ],
             [
              0.1111111111111111,
              "#46039f"
             ],
             [
              0.2222222222222222,
              "#7201a8"
             ],
             [
              0.3333333333333333,
              "#9c179e"
             ],
             [
              0.4444444444444444,
              "#bd3786"
             ],
             [
              0.5555555555555556,
              "#d8576b"
             ],
             [
              0.6666666666666666,
              "#ed7953"
             ],
             [
              0.7777777777777778,
              "#fb9f3a"
             ],
             [
              0.8888888888888888,
              "#fdca26"
             ],
             [
              1,
              "#f0f921"
             ]
            ],
            "type": "heatmap"
           }
          ],
          "histogram": [
           {
            "marker": {
             "pattern": {
              "fillmode": "overlay",
              "size": 10,
              "solidity": 0.2
             }
            },
            "type": "histogram"
           }
          ],
          "histogram2d": [
           {
            "colorbar": {
             "outlinewidth": 0,
             "ticks": ""
            },
            "colorscale": [
             [
              0,
              "#0d0887"
             ],
             [
              0.1111111111111111,
              "#46039f"
             ],
             [
              0.2222222222222222,
              "#7201a8"
             ],
             [
              0.3333333333333333,
              "#9c179e"
             ],
             [
              0.4444444444444444,
              "#bd3786"
             ],
             [
              0.5555555555555556,
              "#d8576b"
             ],
             [
              0.6666666666666666,
              "#ed7953"
             ],
             [
              0.7777777777777778,
              "#fb9f3a"
             ],
             [
              0.8888888888888888,
              "#fdca26"
             ],
             [
              1,
              "#f0f921"
             ]
            ],
            "type": "histogram2d"
           }
          ],
          "histogram2dcontour": [
           {
            "colorbar": {
             "outlinewidth": 0,
             "ticks": ""
            },
            "colorscale": [
             [
              0,
              "#0d0887"
             ],
             [
              0.1111111111111111,
              "#46039f"
             ],
             [
              0.2222222222222222,
              "#7201a8"
             ],
             [
              0.3333333333333333,
              "#9c179e"
             ],
             [
              0.4444444444444444,
              "#bd3786"
             ],
             [
              0.5555555555555556,
              "#d8576b"
             ],
             [
              0.6666666666666666,
              "#ed7953"
             ],
             [
              0.7777777777777778,
              "#fb9f3a"
             ],
             [
              0.8888888888888888,
              "#fdca26"
             ],
             [
              1,
              "#f0f921"
             ]
            ],
            "type": "histogram2dcontour"
           }
          ],
          "mesh3d": [
           {
            "colorbar": {
             "outlinewidth": 0,
             "ticks": ""
            },
            "type": "mesh3d"
           }
          ],
          "parcoords": [
           {
            "line": {
             "colorbar": {
              "outlinewidth": 0,
              "ticks": ""
             }
            },
            "type": "parcoords"
           }
          ],
          "pie": [
           {
            "automargin": true,
            "type": "pie"
           }
          ],
          "scatter": [
           {
            "fillpattern": {
             "fillmode": "overlay",
             "size": 10,
             "solidity": 0.2
            },
            "type": "scatter"
           }
          ],
          "scatter3d": [
           {
            "line": {
             "colorbar": {
              "outlinewidth": 0,
              "ticks": ""
             }
            },
            "marker": {
             "colorbar": {
              "outlinewidth": 0,
              "ticks": ""
             }
            },
            "type": "scatter3d"
           }
          ],
          "scattercarpet": [
           {
            "marker": {
             "colorbar": {
              "outlinewidth": 0,
              "ticks": ""
             }
            },
            "type": "scattercarpet"
           }
          ],
          "scattergeo": [
           {
            "marker": {
             "colorbar": {
              "outlinewidth": 0,
              "ticks": ""
             }
            },
            "type": "scattergeo"
           }
          ],
          "scattergl": [
           {
            "marker": {
             "colorbar": {
              "outlinewidth": 0,
              "ticks": ""
             }
            },
            "type": "scattergl"
           }
          ],
          "scattermap": [
           {
            "marker": {
             "colorbar": {
              "outlinewidth": 0,
              "ticks": ""
             }
            },
            "type": "scattermap"
           }
          ],
          "scattermapbox": [
           {
            "marker": {
             "colorbar": {
              "outlinewidth": 0,
              "ticks": ""
             }
            },
            "type": "scattermapbox"
           }
          ],
          "scatterpolar": [
           {
            "marker": {
             "colorbar": {
              "outlinewidth": 0,
              "ticks": ""
             }
            },
            "type": "scatterpolar"
           }
          ],
          "scatterpolargl": [
           {
            "marker": {
             "colorbar": {
              "outlinewidth": 0,
              "ticks": ""
             }
            },
            "type": "scatterpolargl"
           }
          ],
          "scatterternary": [
           {
            "marker": {
             "colorbar": {
              "outlinewidth": 0,
              "ticks": ""
             }
            },
            "type": "scatterternary"
           }
          ],
          "surface": [
           {
            "colorbar": {
             "outlinewidth": 0,
             "ticks": ""
            },
            "colorscale": [
             [
              0,
              "#0d0887"
             ],
             [
              0.1111111111111111,
              "#46039f"
             ],
             [
              0.2222222222222222,
              "#7201a8"
             ],
             [
              0.3333333333333333,
              "#9c179e"
             ],
             [
              0.4444444444444444,
              "#bd3786"
             ],
             [
              0.5555555555555556,
              "#d8576b"
             ],
             [
              0.6666666666666666,
              "#ed7953"
             ],
             [
              0.7777777777777778,
              "#fb9f3a"
             ],
             [
              0.8888888888888888,
              "#fdca26"
             ],
             [
              1,
              "#f0f921"
             ]
            ],
            "type": "surface"
           }
          ],
          "table": [
           {
            "cells": {
             "fill": {
              "color": "#EBF0F8"
             },
             "line": {
              "color": "white"
             }
            },
            "header": {
             "fill": {
              "color": "#C8D4E3"
             },
             "line": {
              "color": "white"
             }
            },
            "type": "table"
           }
          ]
         },
         "layout": {
          "annotationdefaults": {
           "arrowcolor": "#2a3f5f",
           "arrowhead": 0,
           "arrowwidth": 1
          },
          "autotypenumbers": "strict",
          "coloraxis": {
           "colorbar": {
            "outlinewidth": 0,
            "ticks": ""
           }
          },
          "colorscale": {
           "diverging": [
            [
             0,
             "#8e0152"
            ],
            [
             0.1,
             "#c51b7d"
            ],
            [
             0.2,
             "#de77ae"
            ],
            [
             0.3,
             "#f1b6da"
            ],
            [
             0.4,
             "#fde0ef"
            ],
            [
             0.5,
             "#f7f7f7"
            ],
            [
             0.6,
             "#e6f5d0"
            ],
            [
             0.7,
             "#b8e186"
            ],
            [
             0.8,
             "#7fbc41"
            ],
            [
             0.9,
             "#4d9221"
            ],
            [
             1,
             "#276419"
            ]
           ],
           "sequential": [
            [
             0,
             "#0d0887"
            ],
            [
             0.1111111111111111,
             "#46039f"
            ],
            [
             0.2222222222222222,
             "#7201a8"
            ],
            [
             0.3333333333333333,
             "#9c179e"
            ],
            [
             0.4444444444444444,
             "#bd3786"
            ],
            [
             0.5555555555555556,
             "#d8576b"
            ],
            [
             0.6666666666666666,
             "#ed7953"
            ],
            [
             0.7777777777777778,
             "#fb9f3a"
            ],
            [
             0.8888888888888888,
             "#fdca26"
            ],
            [
             1,
             "#f0f921"
            ]
           ],
           "sequentialminus": [
            [
             0,
             "#0d0887"
            ],
            [
             0.1111111111111111,
             "#46039f"
            ],
            [
             0.2222222222222222,
             "#7201a8"
            ],
            [
             0.3333333333333333,
             "#9c179e"
            ],
            [
             0.4444444444444444,
             "#bd3786"
            ],
            [
             0.5555555555555556,
             "#d8576b"
            ],
            [
             0.6666666666666666,
             "#ed7953"
            ],
            [
             0.7777777777777778,
             "#fb9f3a"
            ],
            [
             0.8888888888888888,
             "#fdca26"
            ],
            [
             1,
             "#f0f921"
            ]
           ]
          },
          "colorway": [
           "#636efa",
           "#EF553B",
           "#00cc96",
           "#ab63fa",
           "#FFA15A",
           "#19d3f3",
           "#FF6692",
           "#B6E880",
           "#FF97FF",
           "#FECB52"
          ],
          "font": {
           "color": "#2a3f5f"
          },
          "geo": {
           "bgcolor": "white",
           "lakecolor": "white",
           "landcolor": "#E5ECF6",
           "showlakes": true,
           "showland": true,
           "subunitcolor": "white"
          },
          "hoverlabel": {
           "align": "left"
          },
          "hovermode": "closest",
          "mapbox": {
           "style": "light"
          },
          "paper_bgcolor": "white",
          "plot_bgcolor": "#E5ECF6",
          "polar": {
           "angularaxis": {
            "gridcolor": "white",
            "linecolor": "white",
            "ticks": ""
           },
           "bgcolor": "#E5ECF6",
           "radialaxis": {
            "gridcolor": "white",
            "linecolor": "white",
            "ticks": ""
           }
          },
          "scene": {
           "xaxis": {
            "backgroundcolor": "#E5ECF6",
            "gridcolor": "white",
            "gridwidth": 2,
            "linecolor": "white",
            "showbackground": true,
            "ticks": "",
            "zerolinecolor": "white"
           },
           "yaxis": {
            "backgroundcolor": "#E5ECF6",
            "gridcolor": "white",
            "gridwidth": 2,
            "linecolor": "white",
            "showbackground": true,
            "ticks": "",
            "zerolinecolor": "white"
           },
           "zaxis": {
            "backgroundcolor": "#E5ECF6",
            "gridcolor": "white",
            "gridwidth": 2,
            "linecolor": "white",
            "showbackground": true,
            "ticks": "",
            "zerolinecolor": "white"
           }
          },
          "shapedefaults": {
           "line": {
            "color": "#2a3f5f"
           }
          },
          "ternary": {
           "aaxis": {
            "gridcolor": "white",
            "linecolor": "white",
            "ticks": ""
           },
           "baxis": {
            "gridcolor": "white",
            "linecolor": "white",
            "ticks": ""
           },
           "bgcolor": "#E5ECF6",
           "caxis": {
            "gridcolor": "white",
            "linecolor": "white",
            "ticks": ""
           }
          },
          "title": {
           "x": 0.05
          },
          "xaxis": {
           "automargin": true,
           "gridcolor": "white",
           "linecolor": "white",
           "ticks": "",
           "title": {
            "standoff": 15
           },
           "zerolinecolor": "white",
           "zerolinewidth": 2
          },
          "yaxis": {
           "automargin": true,
           "gridcolor": "white",
           "linecolor": "white",
           "ticks": "",
           "title": {
            "standoff": 15
           },
           "zerolinecolor": "white",
           "zerolinewidth": 2
          }
         }
        },
        "title": {
         "text": "Profit Distribution by category"
        }
       }
      }
     },
     "metadata": {},
     "output_type": "display_data"
    }
   ],
   "source": [
    "category_profit = select_category_func.groupby('category')['Per_Product_Profit'].sum().reset_index()\n",
    "plot2=plt.pie(\n",
    "    category_profit,\n",
    "    values='Per_Product_Profit',\n",
    "    names='category',\n",
    "    title='Profit Distribution by category'\n",
    ")\n",
    "\n",
    "plot2.show()"
   ]
  },
  {
   "cell_type": "markdown",
   "id": "a63f07a4",
   "metadata": {},
   "source": [
    "### Step-10: Tables"
   ]
  },
  {
   "cell_type": "code",
   "execution_count": 25,
   "id": "bb116070",
   "metadata": {},
   "outputs": [
    {
     "data": {
      "text/html": [
       "<div>\n",
       "<style scoped>\n",
       "    .dataframe tbody tr th:only-of-type {\n",
       "        vertical-align: middle;\n",
       "    }\n",
       "\n",
       "    .dataframe tbody tr th {\n",
       "        vertical-align: top;\n",
       "    }\n",
       "\n",
       "    .dataframe thead th {\n",
       "        text-align: right;\n",
       "    }\n",
       "</style>\n",
       "<table border=\"1\" class=\"dataframe\">\n",
       "  <thead>\n",
       "    <tr style=\"text-align: right;\">\n",
       "      <th></th>\n",
       "      <th>product_name</th>\n",
       "      <th>category</th>\n",
       "      <th>Current_Stock</th>\n",
       "      <th>reorder_level</th>\n",
       "      <th>Per_Product_Profit</th>\n",
       "      <th>Stock_Status</th>\n",
       "    </tr>\n",
       "  </thead>\n",
       "  <tbody>\n",
       "    <tr>\n",
       "      <th>0</th>\n",
       "      <td>Organic Rice</td>\n",
       "      <td>Groceries</td>\n",
       "      <td>658</td>\n",
       "      <td>43</td>\n",
       "      <td>158695.65</td>\n",
       "      <td>OverStock</td>\n",
       "    </tr>\n",
       "    <tr>\n",
       "      <th>1</th>\n",
       "      <td>Olive Oil</td>\n",
       "      <td>Groceries</td>\n",
       "      <td>301</td>\n",
       "      <td>39</td>\n",
       "      <td>146071.62</td>\n",
       "      <td>Perfect Stock</td>\n",
       "    </tr>\n",
       "    <tr>\n",
       "      <th>2</th>\n",
       "      <td>Canned Beans</td>\n",
       "      <td>Groceries</td>\n",
       "      <td>120</td>\n",
       "      <td>30</td>\n",
       "      <td>33407.54</td>\n",
       "      <td>Perfect Stock</td>\n",
       "    </tr>\n",
       "    <tr>\n",
       "      <th>3</th>\n",
       "      <td>Pasta</td>\n",
       "      <td>Groceries</td>\n",
       "      <td>204</td>\n",
       "      <td>36</td>\n",
       "      <td>101732.97</td>\n",
       "      <td>Perfect Stock</td>\n",
       "    </tr>\n",
       "    <tr>\n",
       "      <th>4</th>\n",
       "      <td>Coffee Beans</td>\n",
       "      <td>Groceries</td>\n",
       "      <td>575</td>\n",
       "      <td>27</td>\n",
       "      <td>134286.66</td>\n",
       "      <td>OverStock</td>\n",
       "    </tr>\n",
       "  </tbody>\n",
       "</table>\n",
       "</div>"
      ],
      "text/plain": [
       "   product_name   category  Current_Stock  reorder_level  Per_Product_Profit  \\\n",
       "0  Organic Rice  Groceries            658             43           158695.65   \n",
       "1     Olive Oil  Groceries            301             39           146071.62   \n",
       "2  Canned Beans  Groceries            120             30            33407.54   \n",
       "3         Pasta  Groceries            204             36           101732.97   \n",
       "4  Coffee Beans  Groceries            575             27           134286.66   \n",
       "\n",
       "    Stock_Status  \n",
       "0      OverStock  \n",
       "1  Perfect Stock  \n",
       "2  Perfect Stock  \n",
       "3  Perfect Stock  \n",
       "4      OverStock  "
      ]
     },
     "execution_count": 25,
     "metadata": {},
     "output_type": "execute_result"
    }
   ],
   "source": [
    "Summary_information = select_category_func[['product_name','category','Current_Stock','reorder_level','Per_Product_Profit','Stock_Status']]\n",
    "\n",
    "Summary_information.head()"
   ]
  }
 ],
 "metadata": {
  "kernelspec": {
   "display_name": "Python 3",
   "language": "python",
   "name": "python3"
  },
  "language_info": {
   "codemirror_mode": {
    "name": "ipython",
    "version": 3
   },
   "file_extension": ".py",
   "mimetype": "text/x-python",
   "name": "python",
   "nbconvert_exporter": "python",
   "pygments_lexer": "ipython3",
   "version": "3.12.3"
  }
 },
 "nbformat": 4,
 "nbformat_minor": 5
}
